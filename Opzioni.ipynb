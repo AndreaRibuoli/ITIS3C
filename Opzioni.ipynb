{
 "cells": [
  {
   "cell_type": "code",
   "execution_count": null,
   "id": "0d2812b2-142b-415f-b17a-02259960d886",
   "metadata": {},
   "outputs": [],
   "source": [
    "!gcc -E prova.c"
   ]
  },
  {
   "cell_type": "code",
   "execution_count": null,
   "id": "c46d1b32-80ff-42fb-bd0f-42aa4f43a2a1",
   "metadata": {},
   "outputs": [],
   "source": [
    "!gcc -E -C prova.c"
   ]
  },
  {
   "cell_type": "code",
   "execution_count": 3,
   "id": "0a86f0b2-53bc-4561-87a1-315e16de018b",
   "metadata": {},
   "outputs": [],
   "source": [
    "!gcc -S prova.c"
   ]
  },
  {
   "cell_type": "code",
   "execution_count": 4,
   "id": "e8bdbf41-c433-4c0a-bc0f-03318f6674a9",
   "metadata": {},
   "outputs": [],
   "source": [
    "!gcc -c prova.c"
   ]
  },
  {
   "cell_type": "code",
   "execution_count": 6,
   "id": "0ea27ee1-4c0c-4d76-b26f-2b881115fa79",
   "metadata": {},
   "outputs": [],
   "source": [
    "!gcc -o prova prova.c"
   ]
  },
  {
   "cell_type": "code",
   "execution_count": 7,
   "id": "a4b926f6-36be-4a09-b3c4-831f35cca524",
   "metadata": {},
   "outputs": [
    {
     "name": "stdout",
     "output_type": "stream",
     "text": [
      "Hello, world!"
     ]
    }
   ],
   "source": [
    "!./prova"
   ]
  }
 ],
 "metadata": {
  "kernelspec": {
   "display_name": "Python 3 (ipykernel)",
   "language": "python",
   "name": "python3"
  },
  "language_info": {
   "codemirror_mode": {
    "name": "ipython",
    "version": 3
   },
   "file_extension": ".py",
   "mimetype": "text/x-python",
   "name": "python",
   "nbconvert_exporter": "python",
   "pygments_lexer": "ipython3",
   "version": "3.9.16"
  }
 },
 "nbformat": 4,
 "nbformat_minor": 5
}
